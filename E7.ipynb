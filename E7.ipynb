{
 "cells": [
  {
   "cell_type": "code",
   "execution_count": 9,
   "metadata": {},
   "outputs": [
    {
     "name": "stderr",
     "output_type": "stream",
     "text": [
      "100%|██████████| 1/1 [00:00<00:00, 242.73it/s]"
     ]
    },
    {
     "name": "stdout",
     "output_type": "stream",
     "text": [
      "126\n"
     ]
    },
    {
     "name": "stderr",
     "output_type": "stream",
     "text": [
      "\n"
     ]
    }
   ],
   "source": [
    "import numpy as np\n",
    "import sympy as sp\n",
    "import itertools as iter\n",
    "from tqdm import tqdm\n",
    "\n",
    "n = 8\n",
    "E = sp.symbols(f\"e_:{n+1}\")\n",
    "Alpha = sp.symbols(f\"alpha_:{n+1}\")\n",
    "\n",
    "positiveE7 = [\n",
    "[0,-1,1,0,0,0,0,0],[1,1,1,1,0,0,0,0],[0,0,-1,1,0,0,0,0],\n",
    "[0,0,0,-1,1,0,0,0],[0,0,0,0,-1,1,0,0],[0,0,0,0,0,-1,1,0],\n",
    "[0,0,0,0,0,0,-1,1],[0,-1,0,1,0,0,0,0],[1,1,1,0,1,0,0,0],\n",
    "[0,0,-1,0,1,0,0,0],[0,0,0,-1,0,1,0,0],[0,0,0,0,-1,0,1,0],\n",
    "[0,0,0,0,0,-1,0,1],[0,-1,0,0,1,0,0,0],[1,1,0,1,1,0,0,0],\n",
    "[1,1,1,0,0,1,0,0],[0,0,-1,0,0,1,0,0],[0,0,0,-1,0,0,1,0],\n",
    "[0,0,0,0,-1,0,0,1],[1,0,1,1,1,0,0,0],[0,-1,0,0,0,1,0,0],\n",
    "[1,1,0,1,0,1,0,0],[1,1,1,0,0,0,1,0],[0,0,-1,0,0,0,1,0],\n",
    "[0,0,0,-1,0,0,0,1],[1,0,1,1,0,1,0,0],[0,-1,0,0,0,0,1,0],\n",
    "[1,1,0,0,1,1,0,0],[1,1,0,1,0,0,1,0],[1,1,1,0,0,0,0,1],\n",
    "[0,0,-1,0,0,0,0,1],[1,0,1,0,1,1,0,0],[1,0,1,1,0,0,1,0],\n",
    "[0,-1,0,0,0,0,0,1],[1,1,0,0,1,0,1,0],[1,1,0,1,0,0,0,1],\n",
    "[1,0,0,1,1,1,0,0],[1,0,1,0,1,0,1,0],[1,0,1,1,0,0,0,1],\n",
    "[1,1,0,0,0,1,1,0],[1,1,0,0,1,0,0,1],[1,0,0,1,1,0,1,0],\n",
    "[1,0,1,0,0,1,1,0],[1,0,1,0,1,0,0,1],[1,1,0,0,0,1,0,1],\n",
    "[1,0,0,1,0,1,1,0],[1,0,0,1,1,0,0,1],[1,0,1,0,0,1,0,1],\n",
    "[1,1,0,0,0,0,1,1],[1,0,0,0,1,1,1,0],[1,0,0,1,0,1,0,1],\n",
    "[1,0,1,0,0,0,1,1],[2,1,1,1,1,1,1,0],[1,0,0,0,1,1,0,1],\n",
    "[1,0,0,1,0,0,1,1],[2,1,1,1,1,1,0,1],[1,0,0,0,1,0,1,1],\n",
    "[2,1,1,1,1,0,1,1],[1,0,0,0,0,1,1,1],[2,1,1,1,0,1,1,1],\n",
    "[2,1,1,0,1,1,1,1],[2,1,0,1,1,1,1,1],[2,0,1,1,1,1,1,1]]\n",
    "\n",
    "smplRoot = {\n",
    "    Alpha[1]:E[2] - E[1],\n",
    "    Alpha[2]:E[0] + E[1] + E[2] + E[3],\n",
    "    Alpha[3]:E[3] - E[2],\n",
    "    Alpha[4]:E[4] - E[3],\n",
    "    Alpha[5]:E[5] - E[4],\n",
    "    Alpha[6]:E[6] - E[5],\n",
    "    Alpha[7]:E[7] - E[6],\n",
    "    Alpha[8]:E[8] - E[7],\n",
    "}\n",
    "\n",
    "smplRoot_e = {\n",
    "    Alpha[1]:np.array([0,-1,1,0,0,0,0,0]),\n",
    "    Alpha[2]:np.array([1,1,1,1,0,0,0,0]),\n",
    "    Alpha[3]:np.array([0,0,-1,1,0,0,0,0]),\n",
    "    Alpha[4]:np.array([0,0,0,-1,1,0,0,0]),\n",
    "    Alpha[5]:np.array([0,0,0,0,-1,1,0,0]),\n",
    "    Alpha[6]:np.array([0,0,0,0,0,-1,1,0]),\n",
    "    Alpha[7]:np.array([0,0,0,0,0,0,-1,1]),\n",
    "    Alpha[8]:np.array([0,0,0,0,0,0,-1,1]),\n",
    "}\n",
    "\n",
    "def get_root(arr):\n",
    "    root = np.array([0,0,0,0,0,0,0,0])\n",
    "    for i in range(1,len(arr)):\n",
    "        root += arr[i] * smplRoot_e[Alpha[i]]\n",
    "    return list(root)\n",
    "\n",
    "def get_root_alph(arr):\n",
    "    root = 0\n",
    "    for i in range(1,len(arr)):\n",
    "        root += arr[i] * Alpha[i]\n",
    "    return root\n",
    "\n",
    "BASIS_alph = []\n",
    "for i in tqdm(range(1)):\n",
    "    for coef in positiveE7:\n",
    "        BASIS_alph.append(get_root_alph(coef))\n",
    "\n",
    "\n",
    "all_root = BASIS_alph + list(-np.array(BASIS_alph))\n",
    "\n",
    "# representation like \\sum a_i * e_i\n",
    "def fun_e8(p,r,s,t,u,v,w,q):\n",
    "    return p*smplRoot[Alpha[1]] + q*smplRoot[Alpha[2]] + r*smplRoot[Alpha[3]] +s*smplRoot[Alpha[4]] + t*smplRoot[Alpha[5]] + u*smplRoot[Alpha[6]] + v*smplRoot[Alpha[7]] + w*smplRoot[Alpha[8]],np.array([p,r,s,t,u,v,w,q])\n",
    "\n",
    "\n",
    "# repesentation  like \\sum a_i * \\alpha_i\n",
    "def fun_alpha(p,r,s,t,u,v,w,q):\n",
    "    return p*Alpha[1] + r*Alpha[3] + s*Alpha[4] +t*Alpha[5] + u*Alpha[6] + v*Alpha[7] + q*Alpha[2],(p,r,s,t,u,v,w,q)\n",
    "\n",
    "# projection vectors from E8 on E7\n",
    "def projection(vector):\n",
    "    _,coeff_E8 = fun_e8(2,4,6,5,4,3,2,3)\n",
    "    _,coeff_E7 = fun_e8(2,4,6,5,4,3,0,3)\n",
    "    n_i = (coeff_E8 - vector[1])\n",
    "    n_i[-2] = 0\n",
    "    print(n_i)\n",
    "    print(coeff_E7 - 2*n_i)\n",
    "    p,r,s,t,u,v,w,q = (coeff_E7 - 2*n_i)\n",
    "    return fun_alpha(p,r,s,t,u,v,w,q)\n",
    "# e_\\lambda\n",
    "orbit_1 = fun_e8(2,4,6,5,4,2,1,3)\n",
    "# e_\\mu\n",
    "orbit_2 = fun_e8(2,3,4,3,2,2,1,2)\n",
    "# e_\\nu\n",
    "orbit_3 = fun_e8(0,1,2,2,2,2,1,1)\n",
    "\n",
    "print(len(set(all_root)))\n"
   ]
  },
  {
   "cell_type": "code",
   "execution_count": 10,
   "metadata": {},
   "outputs": [
    {
     "name": "stdout",
     "output_type": "stream",
     "text": [
      "[0 0 0 0 0 1 0 0]\n",
      "[2 4 6 5 4 1 0 3]\n",
      "[0 1 2 2 2 1 0 1]\n",
      "[2 2 2 1 0 1 0 1]\n",
      "[2 3 4 3 2 1 0 2]\n",
      "[-2 -2 -2 -1  0  1  0 -1]\n"
     ]
    }
   ],
   "source": [
    "weight_1, number1 = projection(orbit_1)\n",
    "weight_2, number2 = projection(orbit_2)\n",
    "weight_3, number2 = projection(orbit_3)\n"
   ]
  },
  {
   "cell_type": "code",
   "execution_count": 11,
   "metadata": {},
   "outputs": [
    {
     "name": "stderr",
     "output_type": "stream",
     "text": [
      "100%|██████████| 126/126 [00:03<00:00, 40.52it/s]\n",
      "100%|██████████| 126/126 [00:03<00:00, 36.46it/s]\n",
      "100%|██████████| 126/126 [00:03<00:00, 37.82it/s]\n"
     ]
    }
   ],
   "source": [
    "\n",
    "\n",
    "# -x-y+z = mu => z = mu + (x+y)\n",
    "\n",
    "def psi_w(x,y,weight):\n",
    "    if weight + (x + y) in all_root:\n",
    "        return weight + (x + y)\n",
    "    else:\n",
    "        return 0\n",
    "    \n",
    "def psi_table(weight):\n",
    "    X,Y,Z = [],[],[]\n",
    "    for i in tqdm(range(len(all_root))):\n",
    "        x = all_root[i]\n",
    "        for y in all_root:\n",
    "            if psi_w(x,y,weight) in all_root:\n",
    "                X.append(x)\n",
    "                Y.append(y)\n",
    "                Z.append(weight + x + y)\n",
    "    return X,Y,Z\n",
    "\n",
    "\n",
    "psi_1_arr = psi_table(weight_1)\n",
    "psi_2_arr = psi_table(weight_2)\n",
    "psi_3_arr = psi_table(weight_3)\n",
    "\n",
    "X = list(set(psi_1_arr[0] + psi_2_arr[0] + psi_3_arr[0]))\n",
    "Y = list(set(psi_1_arr[1] + psi_2_arr[1] + psi_3_arr[1]))\n",
    "Z = list(set(psi_1_arr[2] + psi_2_arr[2] + psi_3_arr[2]))\n",
    "\n",
    "# psi_1_xy = list(psi_1_arr.keys())\n",
    "# psi_2_xy = list(psi_2_arr.keys())\n",
    "# psi_3_xy = list(psi_2_arr.keys())\n",
    "\n",
    "# all_xy = list(set(psi_1_xy + psi_2_xy))\n",
    "# all_z = list(set(list(map(lambda pair:pair[0],all_xy)))) + list(set(list(map(lambda pair:pair[1],all_xy))))\n",
    "\n"
   ]
  },
  {
   "cell_type": "code",
   "execution_count": 12,
   "metadata": {},
   "outputs": [],
   "source": [
    "# X"
   ]
  },
  {
   "cell_type": "code",
   "execution_count": null,
   "metadata": {},
   "outputs": [
    {
     "name": "stderr",
     "output_type": "stream",
     "text": [
      "100%|██████████| 49/49 [06:58<00:00,  8.54s/it]\n"
     ]
    }
   ],
   "source": [
    "f = open(\"summ_psi.txt\",\"w\")\n",
    "\n",
    "def fun_cup(x,y,z,psi1,psi2):\n",
    "    elem1 = psi1(psi2(x,y),z)\n",
    "    elem2 = psi1(psi2(y,z),x)\n",
    "    elem3 = psi1(psi2(z,x),y)\n",
    "    sum = elem1 + elem2 + elem3\n",
    "    if sum == 0:\n",
    "        return 0\n",
    "    for i in (sum % 2).args:\n",
    "        if i % 2 == 0:\n",
    "            return 0\n",
    "    return sum\n",
    "\n",
    "def psi_scobs(x,y,z,psi1,psi2):\n",
    "    elem1 = fun_cup(x,y,z,psi1,psi2)\n",
    "    elem2 = fun_cup(x,y,z,psi2,psi1)\n",
    "\n",
    "    sum = elem1 + elem2\n",
    "    return sum\n",
    "\n",
    "\n",
    "for i in tqdm(range(len(Z))):\n",
    "    z = Z[i]\n",
    "    for x in X:\n",
    "        for y in Y:\n",
    "            result = 0\n",
    "            result += psi_scobs(x,y,z,lambda x,y : psi_w(x,y,weight_1),lambda x,y : psi_w(x,y,weight_2))\n",
    "            result += psi_scobs(x,y,z,lambda x,y : psi_w(x,y,weight_1),lambda x,y : psi_w(x,y,weight_3))\n",
    "            result += psi_scobs(x,y,z,lambda x,y : psi_w(x,y,weight_2),lambda x,y : psi_w(x,y,weight_3))\n",
    "\n",
    "            if (result != 0):\n",
    "                print(result)\n",
    "                print(x)\n",
    "                print(y)\n",
    "                print(z)"
   ]
  },
  {
   "cell_type": "code",
   "execution_count": null,
   "metadata": {},
   "outputs": [],
   "source": []
  }
 ],
 "metadata": {
  "kernelspec": {
   "display_name": "Python 3",
   "language": "python",
   "name": "python3"
  },
  "language_info": {
   "codemirror_mode": {
    "name": "ipython",
    "version": 3
   },
   "file_extension": ".py",
   "mimetype": "text/x-python",
   "name": "python",
   "nbconvert_exporter": "python",
   "pygments_lexer": "ipython3",
   "version": "3.12.4"
  }
 },
 "nbformat": 4,
 "nbformat_minor": 2
}
